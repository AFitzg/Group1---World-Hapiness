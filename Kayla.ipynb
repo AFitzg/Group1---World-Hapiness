{
 "cells": [
  {
   "cell_type": "code",
   "execution_count": 162,
   "metadata": {},
   "outputs": [],
   "source": [
    "import matplotlib.pyplot as plt\n",
    "import os\n",
    "import csv\n",
    "import pandas as pd\n",
    "import scipy.stats as st\n",
    "import numpy as np\n",
    "from sklearn import datasets\n",
    "from scipy.stats import linregress\n",
    "\n",
    "#krf  paths to each csv file needed\n",
    "Happiness_2015 = \"Resources/Happiness_2015.csv\"\n",
    "Happiness_2016 = \"Resources/Happiness_2016.csv\"\n",
    "Happiness_2017 = \"Resources/Happiness_2017.csv\"\n",
    "Happiness_2018 = \"Resources/Happiness_2018.csv\"\n",
    "Happiness_2019 = \"Resources/Happiness_2019.csv\"\n",
    "\n"
   ]
  },
  {
   "cell_type": "code",
   "execution_count": 163,
   "metadata": {
    "scrolled": true
   },
   "outputs": [],
   "source": [
    "#krf reading in data from each csv file\n",
    "combine15 = pd.read_csv(Happiness_2015)\n",
    "combine16 = pd.read_csv(Happiness_2016)\n",
    "combine17 = pd.read_csv(Happiness_2017)\n",
    "combine18 = pd.read_csv(Happiness_2018)\n",
    "combine19 = pd.read_csv(Happiness_2019)\n",
    "\n",
    "\n",
    "#krf combine19.head()"
   ]
  },
  {
   "cell_type": "code",
   "execution_count": 164,
   "metadata": {
    "scrolled": true
   },
   "outputs": [],
   "source": [
    "#krf merge 2015 and 2016\n",
    "combined = combine15.merge(combine16, on='Country')\n",
    "\n",
    "#krf combined.head()"
   ]
  },
  {
   "cell_type": "code",
   "execution_count": 165,
   "metadata": {},
   "outputs": [],
   "source": [
    "#krf merging to add 2017\n",
    "combined2 = combined.merge(combine17, on='Country')\n",
    "\n",
    "#krf combined2.head()"
   ]
  },
  {
   "cell_type": "code",
   "execution_count": 166,
   "metadata": {
    "scrolled": true
   },
   "outputs": [],
   "source": [
    "#krf merging to add 2018\n",
    "combined3 = combined2.merge(combine18, on='Country')\n",
    "\n",
    "#krf combined3.head()"
   ]
  },
  {
   "cell_type": "code",
   "execution_count": 167,
   "metadata": {
    "scrolled": true
   },
   "outputs": [],
   "source": [
    "#krf merging to add 2019\n",
    "combined4 = combined3.merge(combine19, on='Country')\n",
    "\n",
    "#krf combined4\n",
    "\n",
    "#krf renaming dataframe\n",
    "happiness_data = combined4"
   ]
  },
  {
   "cell_type": "code",
   "execution_count": 168,
   "metadata": {},
   "outputs": [
    {
     "data": {
      "text/plain": [
       "141"
      ]
     },
     "execution_count": 168,
     "metadata": {},
     "output_type": "execute_result"
    }
   ],
   "source": [
    "# total number of countries\n",
    "country_total = len(happiness_data[\"Country\"].unique())\n",
    "country_total"
   ]
  },
  {
   "cell_type": "code",
   "execution_count": 169,
   "metadata": {
    "scrolled": true
   },
   "outputs": [
    {
     "data": {
      "text/plain": [
       "2015    5.406716\n",
       "2016    5.397887\n",
       "2017    5.408291\n",
       "2018    5.440156\n",
       "2019    5.485383\n",
       "dtype: float64"
      ]
     },
     "execution_count": 169,
     "metadata": {},
     "output_type": "execute_result"
    }
   ],
   "source": [
    "#krf averages of happiness by year\n",
    "#krf 2015\n",
    "average_happiness15 = happiness_data[\"2015 Happiness Score\"].mean()\n",
    "#krf average_happiness15\n",
    "\n",
    "#krf 2016\n",
    "average_happiness16 = happiness_data[\"2016 Happiness Score\"].mean()\n",
    "#krf average_happiness16\n",
    "\n",
    "#krf 2017\n",
    "average_happiness17 = happiness_data[\"2017 Happiness Score\"].mean()\n",
    "#krf average_happiness17\n",
    "\n",
    "#krf 2018\n",
    "average_happiness18 = happiness_data[\"2018 Happiness Score\"].mean()\n",
    "#krf average_happiness18\n",
    "\n",
    "#krf 2019\n",
    "average_happiness19 = happiness_data[\"2019 Happiness Score\"].mean()\n",
    "#krf average_happiness19\n",
    "\n",
    "#krf Happiness Average Summary\n",
    "\n",
    "happiness_summary = pd.DataFrame({\n",
    "    \"2015 Happiness Average\": [average_happiness15],\n",
    "    \"2016 Happiness Average\": [average_happiness16],\n",
    "    \"2017 Happiness Average\": [average_happiness17],\n",
    "    \"2018 Happiness Average\": [average_happiness18],\n",
    "    \"2019 Happiness Average\": [average_happiness19]\n",
    "})\n",
    "# happiness_summary\n",
    "\n",
    "labels = [\n",
    "    \"2015\", \n",
    "    \"2016\",\n",
    "    \"2017\", \n",
    "    \"2018\", \n",
    "    \"2019\"    \n",
    "]\n",
    "\n",
    "values = [\n",
    "    average_happiness15,\n",
    "    average_happiness16,\n",
    "    average_happiness17,\n",
    "    average_happiness18,\n",
    "    average_happiness19\n",
    "]\n",
    "\n",
    "happiness_summary = pd.Series(values, labels)\n",
    "\n",
    "happiness_summary"
   ]
  },
  {
   "cell_type": "code",
   "execution_count": 170,
   "metadata": {
    "scrolled": true
   },
   "outputs": [
    {
     "ename": "NameError",
     "evalue": "name 'happiness_bar' is not defined",
     "output_type": "error",
     "traceback": [
      "\u001b[1;31m---------------------------------------------------------------------------\u001b[0m",
      "\u001b[1;31mNameError\u001b[0m                                 Traceback (most recent call last)",
      "\u001b[1;32m<ipython-input-170-695eaea16647>\u001b[0m in \u001b[0;36m<module>\u001b[1;34m\u001b[0m\n\u001b[0;32m      4\u001b[0m \u001b[0mplt\u001b[0m\u001b[1;33m.\u001b[0m\u001b[0mxlabel\u001b[0m\u001b[1;33m(\u001b[0m\u001b[1;34m\"Year\"\u001b[0m\u001b[1;33m)\u001b[0m\u001b[1;33m\u001b[0m\u001b[1;33m\u001b[0m\u001b[0m\n\u001b[0;32m      5\u001b[0m \u001b[0mplt\u001b[0m\u001b[1;33m.\u001b[0m\u001b[0mylabel\u001b[0m\u001b[1;33m(\u001b[0m\u001b[1;34m\"Happiness Average\"\u001b[0m\u001b[1;33m)\u001b[0m\u001b[1;33m\u001b[0m\u001b[1;33m\u001b[0m\u001b[0m\n\u001b[1;32m----> 6\u001b[1;33m \u001b[0mplt\u001b[0m\u001b[1;33m.\u001b[0m\u001b[0msavefig\u001b[0m\u001b[1;33m(\u001b[0m\u001b[0mhappiness_bar\u001b[0m\u001b[1;33m)\u001b[0m\u001b[1;33m\u001b[0m\u001b[1;33m\u001b[0m\u001b[0m\n\u001b[0m",
      "\u001b[1;31mNameError\u001b[0m: name 'happiness_bar' is not defined"
     ]
    },
    {
     "data": {
      "image/png": "[encoded data removed]",
      "text/plain": [
       "<Figure size 432x288 with 1 Axes>"
      ]
     },
     "metadata": {
      "needs_background": "light"
     },
     "output_type": "display_data"
    }
   ],
   "source": [
    "#krf yearly happiness chart\n",
    "\n",
    "happiness_summary.plot(kind=\"bar\")\n",
    "plt.xlabel(\"Year\")\n",
    "plt.ylabel(\"Happiness Average\")\n",
    "plt.savefig(happiness_bar)"
   ]
  },
  {
   "cell_type": "code",
   "execution_count": 171,
   "metadata": {},
   "outputs": [
    {
     "data": {
      "text/plain": [
       "2015    1.872340\n",
       "2016    1.617021\n",
       "2017    1.780142\n",
       "2018    1.631206\n",
       "2019    2.113475\n",
       "dtype: float64"
      ]
     },
     "execution_count": 171,
     "metadata": {},
     "output_type": "execute_result"
    }
   ],
   "source": [
    "#krf averages of natural disasters per year\n",
    "#krf 2015\n",
    "average_disasters15 = happiness_data[\"2015 Total Natural Disaster\"].mean()\n",
    "#krf average_disasters15\n",
    "\n",
    "#krf 2016\n",
    "average_disasters16 = happiness_data[\"2016 Total Natural Disaster\"].mean()\n",
    "#krf average_disasters16\n",
    "\n",
    "#krf 2017\n",
    "average_disasters17 = happiness_data[\"2017 Total Natural Disaster\"].mean()\n",
    "#krf average_disasters17\n",
    "\n",
    "#krf 2018\n",
    "average_disasters18 = happiness_data[\"2018 Total Natural Disaster\"].mean()\n",
    "#krf average_disasters18\n",
    "\n",
    "#krf 2019\n",
    "average_disasters19 = happiness_data[\"2019 Total Natural Disaster\"].mean()\n",
    "#krf average_disasters19\n",
    "\n",
    "#krf disasters Average Summary\n",
    "\n",
    "disasters_summary = pd.DataFrame({\n",
    "    \"2015 Disaster Average\": [average_disasters15],\n",
    "    \"2016 Disaster Average\": [average_disasters16],\n",
    "    \"2017 Disaster Average\": [average_disasters17],\n",
    "    \"2018 Disaster Average\": [average_disasters18],\n",
    "    \"2019 Disaster Average\": [average_disasters19]\n",
    "})\n",
    "# disasters_summary\n",
    "\n",
    "labels = [\n",
    "    \"2015\", \n",
    "    \"2016\",\n",
    "    \"2017\", \n",
    "    \"2018\", \n",
    "    \"2019\"    \n",
    "]\n",
    "\n",
    "values = [\n",
    "    average_disasters15,\n",
    "    average_disasters16,\n",
    "    average_disasters17,\n",
    "    average_disasters18,\n",
    "    average_disasters19\n",
    "]\n",
    "\n",
    "disasters_summary = pd.Series(values, labels)\n",
    "\n",
    "disasters_summary"
   ]
  },
  {
   "cell_type": "code",
   "execution_count": 172,
   "metadata": {
    "scrolled": false
   },
   "outputs": [
    {
     "ename": "NameError",
     "evalue": "name 'disaster_bar' is not defined",
     "output_type": "error",
     "traceback": [
      "\u001b[1;31m---------------------------------------------------------------------------\u001b[0m",
      "\u001b[1;31mNameError\u001b[0m                                 Traceback (most recent call last)",
      "\u001b[1;32m<ipython-input-172-149f61418132>\u001b[0m in \u001b[0;36m<module>\u001b[1;34m\u001b[0m\n\u001b[0;32m      4\u001b[0m \u001b[0mplt\u001b[0m\u001b[1;33m.\u001b[0m\u001b[0mxlabel\u001b[0m\u001b[1;33m(\u001b[0m\u001b[1;34m\" Year\"\u001b[0m\u001b[1;33m)\u001b[0m\u001b[1;33m\u001b[0m\u001b[1;33m\u001b[0m\u001b[0m\n\u001b[0;32m      5\u001b[0m \u001b[0mplt\u001b[0m\u001b[1;33m.\u001b[0m\u001b[0mylabel\u001b[0m\u001b[1;33m(\u001b[0m\u001b[1;34m\"Disaster Average\"\u001b[0m\u001b[1;33m)\u001b[0m\u001b[1;33m\u001b[0m\u001b[1;33m\u001b[0m\u001b[0m\n\u001b[1;32m----> 6\u001b[1;33m \u001b[0mplt\u001b[0m\u001b[1;33m.\u001b[0m\u001b[0msavefig\u001b[0m\u001b[1;33m(\u001b[0m\u001b[0mdisaster_bar\u001b[0m\u001b[1;33m)\u001b[0m\u001b[1;33m\u001b[0m\u001b[1;33m\u001b[0m\u001b[0m\n\u001b[0m",
      "\u001b[1;31mNameError\u001b[0m: name 'disaster_bar' is not defined"
     ]
    },
    {
     "data": {
      "image/png": "[encoded data removed]",
      "text/plain": [
       "<Figure size 432x288 with 1 Axes>"
      ]
     },
     "metadata": {
      "needs_background": "light"
     },
     "output_type": "display_data"
    }
   ],
   "source": [
    "#krf disaster chart\n",
    "\n",
    "disasters_summary.plot(kind=\"bar\")\n",
    "plt.xlabel(\" Year\")\n",
    "plt.ylabel(\"Disaster Average\")\n",
    "plt.savefig(disaster_bar)"
   ]
  },
  {
   "cell_type": "code",
   "execution_count": 173,
   "metadata": {},
   "outputs": [
    {
     "data": {
      "text/plain": [
       "2015    2.774514e+06\n",
       "2016    6.996073e+05\n",
       "2017    4.970562e+05\n",
       "2018    4.751743e+05\n",
       "2019    4.319060e+05\n",
       "dtype: float64"
      ]
     },
     "execution_count": 173,
     "metadata": {},
     "output_type": "execute_result"
    }
   ],
   "source": [
    "#krf averages of people affected by natural disasters per year\n",
    "#krf 2015\n",
    "average_affected15 = happiness_data[\"2015 Natural Disaster Total Affected\"].mean()\n",
    "#krf average_affected15\n",
    "\n",
    "#krf 2016\n",
    "average_affected16 = happiness_data[\"2016 Natural Disaster Total Affected\"].mean()\n",
    "#krf average_affected16\n",
    "\n",
    "#krf 2017\n",
    "average_affected17 = happiness_data[\"2017 Natural Disaster Total Affected\"].mean()\n",
    "#krf average_affected17\n",
    "\n",
    "#krf 2018\n",
    "average_affected18 = happiness_data[\"2018 Natural Disaster Total Affected\"].mean()\n",
    "#krf average_affected18\n",
    "\n",
    "#krf 2019\n",
    "average_affected19 = happiness_data[\"2019 Natural Disaster Total Affected\"].mean()\n",
    "#krf average_affected19\n",
    "\n",
    "#krf Total Affected Average Summary\n",
    "\n",
    "affected_summary = pd.DataFrame({\n",
    "    \"2015\": [average_affected15],\n",
    "    \"2016\": [average_affected16],\n",
    "    \"2017\": [average_affected17],\n",
    "    \"2018\": [average_affected18],\n",
    "    \"2019\": [average_affected19]\n",
    "})\n",
    "affected_summary\n",
    "#krf another way to create the series\n",
    "affected_series = pd.Series(affected_summary.values[0], affected_summary.columns)\n",
    "affected_series\n",
    "\n",
    "# affected_summary.values[0]\n",
    "\n"
   ]
  },
  {
   "cell_type": "code",
   "execution_count": 174,
   "metadata": {
    "scrolled": true
   },
   "outputs": [
    {
     "ename": "NameError",
     "evalue": "name 'affected_bar' is not defined",
     "output_type": "error",
     "traceback": [
      "\u001b[1;31m---------------------------------------------------------------------------\u001b[0m",
      "\u001b[1;31mNameError\u001b[0m                                 Traceback (most recent call last)",
      "\u001b[1;32m<ipython-input-174-594f89c5afca>\u001b[0m in \u001b[0;36m<module>\u001b[1;34m\u001b[0m\n\u001b[0;32m      4\u001b[0m \u001b[0mplt\u001b[0m\u001b[1;33m.\u001b[0m\u001b[0mxlabel\u001b[0m\u001b[1;33m(\u001b[0m\u001b[1;34m\"Year\"\u001b[0m\u001b[1;33m)\u001b[0m\u001b[1;33m\u001b[0m\u001b[1;33m\u001b[0m\u001b[0m\n\u001b[0;32m      5\u001b[0m \u001b[0mplt\u001b[0m\u001b[1;33m.\u001b[0m\u001b[0mylabel\u001b[0m\u001b[1;33m(\u001b[0m\u001b[1;34m\"Average Total Affected\"\u001b[0m\u001b[1;33m)\u001b[0m\u001b[1;33m\u001b[0m\u001b[1;33m\u001b[0m\u001b[0m\n\u001b[1;32m----> 6\u001b[1;33m \u001b[0mplt\u001b[0m\u001b[1;33m.\u001b[0m\u001b[0msavefig\u001b[0m\u001b[1;33m(\u001b[0m\u001b[0maffected_bar\u001b[0m\u001b[1;33m)\u001b[0m\u001b[1;33m\u001b[0m\u001b[1;33m\u001b[0m\u001b[0m\n\u001b[0m",
      "\u001b[1;31mNameError\u001b[0m: name 'affected_bar' is not defined"
     ]
    },
    {
     "data": {
      "image/png": "[encoded data removed]",
      "text/plain": [
       "<Figure size 432x288 with 1 Axes>"
      ]
     },
     "metadata": {
      "needs_background": "light"
     },
     "output_type": "display_data"
    }
   ],
   "source": [
    "#krf affected chart\n",
    "\n",
    "affected_series.plot(kind=\"bar\")\n",
    "plt.xlabel(\"Year\")\n",
    "plt.ylabel(\"Average Total Affected\")\n",
    "plt.savefig(affected_bar)"
   ]
  },
  {
   "cell_type": "code",
   "execution_count": 175,
   "metadata": {},
   "outputs": [
    {
     "data": {
      "text/plain": [
       "2015    155.659574\n",
       "2016     57.141844\n",
       "2017     62.198582\n",
       "2018     74.957447\n",
       "2019     77.382979\n",
       "dtype: float64"
      ]
     },
     "execution_count": 175,
     "metadata": {},
     "output_type": "execute_result"
    }
   ],
   "source": [
    "#krf averages of death by natural disasters per year\n",
    "#krf 2015\n",
    "average_death15 = happiness_data[\"2015 Natural Disaster Total Deaths\"].mean()\n",
    "#krf average_death15\n",
    "\n",
    "#krf 2016\n",
    "average_death16 = happiness_data[\"2016 Natural Disaster Total Deaths\"].mean()\n",
    "#krf average_death16\n",
    "\n",
    "#krf 2017\n",
    "average_death17 = happiness_data[\"2017 Natural Disaster Total Deaths\"].mean()\n",
    "#krf average_death17\n",
    "\n",
    "#krf 2018\n",
    "average_death18 = happiness_data[\"2018 Natural Disaster Total Deaths\"].mean()\n",
    "#krf average_death18\n",
    "\n",
    "#krf 2019\n",
    "average_death19 = happiness_data[\"2019 Natural Disaster Total Deaths\"].mean()\n",
    "#krf average_death19\n",
    "\n",
    "#krf Death Average Summary\n",
    "\n",
    "death_summary = pd.DataFrame({\n",
    "    \"2015 Total Deaths\": [average_death15],\n",
    "    \"2016 Total Deaths\": [average_death16],\n",
    "    \"2017 Total Deaths\": [average_death17],\n",
    "    \"2018 Total Deaths\": [average_death18],\n",
    "    \"2019 Total Deaths\": [average_death19]\n",
    "})\n",
    "# death_summary\n",
    "\n",
    "labels = [\n",
    "    \"2015\", \n",
    "    \"2016\",\n",
    "    \"2017\", \n",
    "    \"2018\", \n",
    "    \"2019\"    \n",
    "]\n",
    "\n",
    "values = [\n",
    "    average_death15,\n",
    "    average_death16,\n",
    "    average_death17,\n",
    "    average_death18,\n",
    "    average_death19\n",
    "]\n",
    "\n",
    "death_summary = pd.Series(values, labels)\n",
    "\n",
    "death_summary\n",
    "    "
   ]
  },
  {
   "cell_type": "code",
   "execution_count": 176,
   "metadata": {
    "scrolled": true
   },
   "outputs": [
    {
     "ename": "NameError",
     "evalue": "name 'deaths_bar' is not defined",
     "output_type": "error",
     "traceback": [
      "\u001b[1;31m---------------------------------------------------------------------------\u001b[0m",
      "\u001b[1;31mNameError\u001b[0m                                 Traceback (most recent call last)",
      "\u001b[1;32m<ipython-input-176-d46502671faa>\u001b[0m in \u001b[0;36m<module>\u001b[1;34m\u001b[0m\n\u001b[0;32m      5\u001b[0m \u001b[0mplt\u001b[0m\u001b[1;33m.\u001b[0m\u001b[0mylabel\u001b[0m\u001b[1;33m(\u001b[0m\u001b[1;34m\"Average Total Deaths\"\u001b[0m\u001b[1;33m)\u001b[0m\u001b[1;33m\u001b[0m\u001b[1;33m\u001b[0m\u001b[0m\n\u001b[0;32m      6\u001b[0m \u001b[0mplt\u001b[0m\u001b[1;33m.\u001b[0m\u001b[0mtitle\u001b[0m\u001b[1;33m(\u001b[0m\u001b[1;34m\"Average Total Deaths Per Year\"\u001b[0m\u001b[1;33m)\u001b[0m\u001b[1;33m\u001b[0m\u001b[1;33m\u001b[0m\u001b[0m\n\u001b[1;32m----> 7\u001b[1;33m \u001b[0mplt\u001b[0m\u001b[1;33m.\u001b[0m\u001b[0msavefig\u001b[0m\u001b[1;33m(\u001b[0m\u001b[0mdeaths_bar\u001b[0m\u001b[1;33m)\u001b[0m\u001b[1;33m\u001b[0m\u001b[1;33m\u001b[0m\u001b[0m\n\u001b[0m",
      "\u001b[1;31mNameError\u001b[0m: name 'deaths_bar' is not defined"
     ]
    },
    {
     "data": {
      "image/png": "[encoded data removed]",
      "text/plain": [
       "<Figure size 432x288 with 1 Axes>"
      ]
     },
     "metadata": {
      "needs_background": "light"
     },
     "output_type": "display_data"
    }
   ],
   "source": [
    "#krf death chart\n",
    "\n",
    "death_summary.plot(kind=\"bar\")\n",
    "plt.xlabel(\"Years\")\n",
    "plt.ylabel(\"Average Total Deaths\")\n",
    "plt.title(\"Average Total Deaths Per Year\")\n",
    "plt.savefig(deaths_bar)"
   ]
  },
  {
   "cell_type": "code",
   "execution_count": 177,
   "metadata": {},
   "outputs": [
    {
     "data": {
      "text/html": [
       "<div>\n",
       "<style scoped>\n",
       "    .dataframe tbody tr th:only-of-type {\n",
       "        vertical-align: middle;\n",
       "    }\n",
       "\n",
       "    .dataframe tbody tr th {\n",
       "        vertical-align: top;\n",
       "    }\n",
       "\n",
       "    .dataframe thead th {\n",
       "        text-align: right;\n",
       "    }\n",
       "</style>\n",
       "<table border=\"1\" class=\"dataframe\">\n",
       "  <thead>\n",
       "    <tr style=\"text-align: right;\">\n",
       "      <th></th>\n",
       "      <th>Country</th>\n",
       "      <th>2015 Happiness Rank</th>\n",
       "      <th>2015 Happiness Score</th>\n",
       "      <th>2015 Economy (GDP per Capita)</th>\n",
       "      <th>2015 Family</th>\n",
       "      <th>2015 Health (Life Expectancy)</th>\n",
       "      <th>2015 Freedom</th>\n",
       "      <th>2015 Trust (Government Corruption)</th>\n",
       "      <th>2015 Generosity</th>\n",
       "      <th>2015 Total Natural Disaster</th>\n",
       "      <th>...</th>\n",
       "      <th>2019 Happiness Score</th>\n",
       "      <th>2019 Economy (GDP per Capita)</th>\n",
       "      <th>2019 Family</th>\n",
       "      <th>2019 Health (Life Expectancy)</th>\n",
       "      <th>2019 Freedom</th>\n",
       "      <th>2019 Trust (Government Corruption)</th>\n",
       "      <th>2019 Generosity</th>\n",
       "      <th>2019 Total Natural Disaster</th>\n",
       "      <th>2019 Natural Disaster Total Affected</th>\n",
       "      <th>2019 Natural Disaster Total Deaths</th>\n",
       "    </tr>\n",
       "  </thead>\n",
       "  <tbody>\n",
       "    <tr>\n",
       "      <th>0</th>\n",
       "      <td>Switzerland</td>\n",
       "      <td>1</td>\n",
       "      <td>7.587</td>\n",
       "      <td>1.39651</td>\n",
       "      <td>1.34951</td>\n",
       "      <td>0.94143</td>\n",
       "      <td>0.66557</td>\n",
       "      <td>0.41978</td>\n",
       "      <td>0.29678</td>\n",
       "      <td>0</td>\n",
       "      <td>...</td>\n",
       "      <td>7.480</td>\n",
       "      <td>1.452</td>\n",
       "      <td>1.526</td>\n",
       "      <td>1.052</td>\n",
       "      <td>0.572</td>\n",
       "      <td>0.343</td>\n",
       "      <td>0.263</td>\n",
       "      <td>1</td>\n",
       "      <td>0</td>\n",
       "      <td>4</td>\n",
       "    </tr>\n",
       "    <tr>\n",
       "      <th>1</th>\n",
       "      <td>Iceland</td>\n",
       "      <td>2</td>\n",
       "      <td>7.561</td>\n",
       "      <td>1.30232</td>\n",
       "      <td>1.40223</td>\n",
       "      <td>0.94784</td>\n",
       "      <td>0.62877</td>\n",
       "      <td>0.14145</td>\n",
       "      <td>0.43630</td>\n",
       "      <td>0</td>\n",
       "      <td>...</td>\n",
       "      <td>7.494</td>\n",
       "      <td>1.380</td>\n",
       "      <td>1.624</td>\n",
       "      <td>1.026</td>\n",
       "      <td>0.591</td>\n",
       "      <td>0.118</td>\n",
       "      <td>0.354</td>\n",
       "      <td>0</td>\n",
       "      <td>0</td>\n",
       "      <td>0</td>\n",
       "    </tr>\n",
       "    <tr>\n",
       "      <th>2</th>\n",
       "      <td>Denmark</td>\n",
       "      <td>3</td>\n",
       "      <td>7.527</td>\n",
       "      <td>1.32548</td>\n",
       "      <td>1.36058</td>\n",
       "      <td>0.87464</td>\n",
       "      <td>0.64938</td>\n",
       "      <td>0.48357</td>\n",
       "      <td>0.34139</td>\n",
       "      <td>0</td>\n",
       "      <td>...</td>\n",
       "      <td>7.600</td>\n",
       "      <td>1.383</td>\n",
       "      <td>1.573</td>\n",
       "      <td>0.996</td>\n",
       "      <td>0.592</td>\n",
       "      <td>0.410</td>\n",
       "      <td>0.252</td>\n",
       "      <td>0</td>\n",
       "      <td>0</td>\n",
       "      <td>0</td>\n",
       "    </tr>\n",
       "    <tr>\n",
       "      <th>3</th>\n",
       "      <td>Norway</td>\n",
       "      <td>4</td>\n",
       "      <td>7.522</td>\n",
       "      <td>1.45900</td>\n",
       "      <td>1.33095</td>\n",
       "      <td>0.88521</td>\n",
       "      <td>0.66973</td>\n",
       "      <td>0.36503</td>\n",
       "      <td>0.34699</td>\n",
       "      <td>0</td>\n",
       "      <td>...</td>\n",
       "      <td>7.554</td>\n",
       "      <td>1.488</td>\n",
       "      <td>1.582</td>\n",
       "      <td>1.028</td>\n",
       "      <td>0.603</td>\n",
       "      <td>0.341</td>\n",
       "      <td>0.271</td>\n",
       "      <td>1</td>\n",
       "      <td>150</td>\n",
       "      <td>1</td>\n",
       "    </tr>\n",
       "    <tr>\n",
       "      <th>4</th>\n",
       "      <td>Canada</td>\n",
       "      <td>5</td>\n",
       "      <td>7.427</td>\n",
       "      <td>1.32629</td>\n",
       "      <td>1.32261</td>\n",
       "      <td>0.90563</td>\n",
       "      <td>0.63297</td>\n",
       "      <td>0.32957</td>\n",
       "      <td>0.45811</td>\n",
       "      <td>1</td>\n",
       "      <td>...</td>\n",
       "      <td>7.278</td>\n",
       "      <td>1.365</td>\n",
       "      <td>1.505</td>\n",
       "      <td>1.039</td>\n",
       "      <td>0.584</td>\n",
       "      <td>0.308</td>\n",
       "      <td>0.285</td>\n",
       "      <td>2</td>\n",
       "      <td>19500</td>\n",
       "      <td>2</td>\n",
       "    </tr>\n",
       "    <tr>\n",
       "      <th>...</th>\n",
       "      <td>...</td>\n",
       "      <td>...</td>\n",
       "      <td>...</td>\n",
       "      <td>...</td>\n",
       "      <td>...</td>\n",
       "      <td>...</td>\n",
       "      <td>...</td>\n",
       "      <td>...</td>\n",
       "      <td>...</td>\n",
       "      <td>...</td>\n",
       "      <td>...</td>\n",
       "      <td>...</td>\n",
       "      <td>...</td>\n",
       "      <td>...</td>\n",
       "      <td>...</td>\n",
       "      <td>...</td>\n",
       "      <td>...</td>\n",
       "      <td>...</td>\n",
       "      <td>...</td>\n",
       "      <td>...</td>\n",
       "      <td>...</td>\n",
       "    </tr>\n",
       "    <tr>\n",
       "      <th>136</th>\n",
       "      <td>Rwanda</td>\n",
       "      <td>154</td>\n",
       "      <td>3.465</td>\n",
       "      <td>0.22208</td>\n",
       "      <td>0.77370</td>\n",
       "      <td>0.42864</td>\n",
       "      <td>0.59201</td>\n",
       "      <td>0.55191</td>\n",
       "      <td>0.22628</td>\n",
       "      <td>1</td>\n",
       "      <td>...</td>\n",
       "      <td>3.334</td>\n",
       "      <td>0.359</td>\n",
       "      <td>0.711</td>\n",
       "      <td>0.614</td>\n",
       "      <td>0.555</td>\n",
       "      <td>0.411</td>\n",
       "      <td>0.217</td>\n",
       "      <td>2</td>\n",
       "      <td>5958</td>\n",
       "      <td>28</td>\n",
       "    </tr>\n",
       "    <tr>\n",
       "      <th>137</th>\n",
       "      <td>Benin</td>\n",
       "      <td>155</td>\n",
       "      <td>3.340</td>\n",
       "      <td>0.28665</td>\n",
       "      <td>0.35386</td>\n",
       "      <td>0.31910</td>\n",
       "      <td>0.48450</td>\n",
       "      <td>0.08010</td>\n",
       "      <td>0.18260</td>\n",
       "      <td>0</td>\n",
       "      <td>...</td>\n",
       "      <td>4.883</td>\n",
       "      <td>0.393</td>\n",
       "      <td>0.437</td>\n",
       "      <td>0.397</td>\n",
       "      <td>0.349</td>\n",
       "      <td>0.082</td>\n",
       "      <td>0.175</td>\n",
       "      <td>1</td>\n",
       "      <td>24</td>\n",
       "      <td>13</td>\n",
       "    </tr>\n",
       "    <tr>\n",
       "      <th>138</th>\n",
       "      <td>Syria</td>\n",
       "      <td>156</td>\n",
       "      <td>3.006</td>\n",
       "      <td>0.66320</td>\n",
       "      <td>0.47489</td>\n",
       "      <td>0.72193</td>\n",
       "      <td>0.15684</td>\n",
       "      <td>0.18906</td>\n",
       "      <td>0.47179</td>\n",
       "      <td>0</td>\n",
       "      <td>...</td>\n",
       "      <td>3.462</td>\n",
       "      <td>0.619</td>\n",
       "      <td>0.378</td>\n",
       "      <td>0.440</td>\n",
       "      <td>0.013</td>\n",
       "      <td>0.141</td>\n",
       "      <td>0.331</td>\n",
       "      <td>0</td>\n",
       "      <td>0</td>\n",
       "      <td>0</td>\n",
       "    </tr>\n",
       "    <tr>\n",
       "      <th>139</th>\n",
       "      <td>Burundi</td>\n",
       "      <td>157</td>\n",
       "      <td>2.905</td>\n",
       "      <td>0.01530</td>\n",
       "      <td>0.41587</td>\n",
       "      <td>0.22396</td>\n",
       "      <td>0.11850</td>\n",
       "      <td>0.10062</td>\n",
       "      <td>0.19727</td>\n",
       "      <td>2</td>\n",
       "      <td>...</td>\n",
       "      <td>3.775</td>\n",
       "      <td>0.046</td>\n",
       "      <td>0.447</td>\n",
       "      <td>0.380</td>\n",
       "      <td>0.220</td>\n",
       "      <td>0.180</td>\n",
       "      <td>0.176</td>\n",
       "      <td>3</td>\n",
       "      <td>13715</td>\n",
       "      <td>61</td>\n",
       "    </tr>\n",
       "    <tr>\n",
       "      <th>140</th>\n",
       "      <td>Togo</td>\n",
       "      <td>158</td>\n",
       "      <td>2.839</td>\n",
       "      <td>0.20868</td>\n",
       "      <td>0.13995</td>\n",
       "      <td>0.28443</td>\n",
       "      <td>0.36453</td>\n",
       "      <td>0.10731</td>\n",
       "      <td>0.16681</td>\n",
       "      <td>1</td>\n",
       "      <td>...</td>\n",
       "      <td>4.085</td>\n",
       "      <td>0.275</td>\n",
       "      <td>0.572</td>\n",
       "      <td>0.410</td>\n",
       "      <td>0.293</td>\n",
       "      <td>0.085</td>\n",
       "      <td>0.177</td>\n",
       "      <td>0</td>\n",
       "      <td>0</td>\n",
       "      <td>0</td>\n",
       "    </tr>\n",
       "  </tbody>\n",
       "</table>\n",
       "<p>141 rows × 56 columns</p>\n",
       "</div>"
      ],
      "text/plain": [
       "         Country  2015 Happiness Rank  2015 Happiness Score  \\\n",
       "0    Switzerland                    1                 7.587   \n",
       "1        Iceland                    2                 7.561   \n",
       "2        Denmark                    3                 7.527   \n",
       "3         Norway                    4                 7.522   \n",
       "4         Canada                    5                 7.427   \n",
       "..           ...                  ...                   ...   \n",
       "136       Rwanda                  154                 3.465   \n",
       "137        Benin                  155                 3.340   \n",
       "138        Syria                  156                 3.006   \n",
       "139      Burundi                  157                 2.905   \n",
       "140         Togo                  158                 2.839   \n",
       "\n",
       "     2015 Economy (GDP per Capita)  2015 Family  \\\n",
       "0                          1.39651      1.34951   \n",
       "1                          1.30232      1.40223   \n",
       "2                          1.32548      1.36058   \n",
       "3                          1.45900      1.33095   \n",
       "4                          1.32629      1.32261   \n",
       "..                             ...          ...   \n",
       "136                        0.22208      0.77370   \n",
       "137                        0.28665      0.35386   \n",
       "138                        0.66320      0.47489   \n",
       "139                        0.01530      0.41587   \n",
       "140                        0.20868      0.13995   \n",
       "\n",
       "     2015 Health (Life Expectancy)  2015 Freedom  \\\n",
       "0                          0.94143       0.66557   \n",
       "1                          0.94784       0.62877   \n",
       "2                          0.87464       0.64938   \n",
       "3                          0.88521       0.66973   \n",
       "4                          0.90563       0.63297   \n",
       "..                             ...           ...   \n",
       "136                        0.42864       0.59201   \n",
       "137                        0.31910       0.48450   \n",
       "138                        0.72193       0.15684   \n",
       "139                        0.22396       0.11850   \n",
       "140                        0.28443       0.36453   \n",
       "\n",
       "     2015 Trust (Government Corruption)  2015 Generosity  \\\n",
       "0                               0.41978          0.29678   \n",
       "1                               0.14145          0.43630   \n",
       "2                               0.48357          0.34139   \n",
       "3                               0.36503          0.34699   \n",
       "4                               0.32957          0.45811   \n",
       "..                                  ...              ...   \n",
       "136                             0.55191          0.22628   \n",
       "137                             0.08010          0.18260   \n",
       "138                             0.18906          0.47179   \n",
       "139                             0.10062          0.19727   \n",
       "140                             0.10731          0.16681   \n",
       "\n",
       "     2015 Total Natural Disaster  ...  2019 Happiness Score  \\\n",
       "0                              0  ...                 7.480   \n",
       "1                              0  ...                 7.494   \n",
       "2                              0  ...                 7.600   \n",
       "3                              0  ...                 7.554   \n",
       "4                              1  ...                 7.278   \n",
       "..                           ...  ...                   ...   \n",
       "136                            1  ...                 3.334   \n",
       "137                            0  ...                 4.883   \n",
       "138                            0  ...                 3.462   \n",
       "139                            2  ...                 3.775   \n",
       "140                            1  ...                 4.085   \n",
       "\n",
       "     2019 Economy (GDP per Capita)  2019 Family  \\\n",
       "0                            1.452        1.526   \n",
       "1                            1.380        1.624   \n",
       "2                            1.383        1.573   \n",
       "3                            1.488        1.582   \n",
       "4                            1.365        1.505   \n",
       "..                             ...          ...   \n",
       "136                          0.359        0.711   \n",
       "137                          0.393        0.437   \n",
       "138                          0.619        0.378   \n",
       "139                          0.046        0.447   \n",
       "140                          0.275        0.572   \n",
       "\n",
       "     2019 Health (Life Expectancy)  2019 Freedom  \\\n",
       "0                            1.052         0.572   \n",
       "1                            1.026         0.591   \n",
       "2                            0.996         0.592   \n",
       "3                            1.028         0.603   \n",
       "4                            1.039         0.584   \n",
       "..                             ...           ...   \n",
       "136                          0.614         0.555   \n",
       "137                          0.397         0.349   \n",
       "138                          0.440         0.013   \n",
       "139                          0.380         0.220   \n",
       "140                          0.410         0.293   \n",
       "\n",
       "     2019 Trust (Government Corruption)  2019 Generosity  \\\n",
       "0                                 0.343            0.263   \n",
       "1                                 0.118            0.354   \n",
       "2                                 0.410            0.252   \n",
       "3                                 0.341            0.271   \n",
       "4                                 0.308            0.285   \n",
       "..                                  ...              ...   \n",
       "136                               0.411            0.217   \n",
       "137                               0.082            0.175   \n",
       "138                               0.141            0.331   \n",
       "139                               0.180            0.176   \n",
       "140                               0.085            0.177   \n",
       "\n",
       "     2019 Total Natural Disaster  2019 Natural Disaster Total Affected  \\\n",
       "0                              1                                     0   \n",
       "1                              0                                     0   \n",
       "2                              0                                     0   \n",
       "3                              1                                   150   \n",
       "4                              2                                 19500   \n",
       "..                           ...                                   ...   \n",
       "136                            2                                  5958   \n",
       "137                            1                                    24   \n",
       "138                            0                                     0   \n",
       "139                            3                                 13715   \n",
       "140                            0                                     0   \n",
       "\n",
       "     2019 Natural Disaster Total Deaths  \n",
       "0                                     4  \n",
       "1                                     0  \n",
       "2                                     0  \n",
       "3                                     1  \n",
       "4                                     2  \n",
       "..                                  ...  \n",
       "136                                  28  \n",
       "137                                  13  \n",
       "138                                   0  \n",
       "139                                  61  \n",
       "140                                   0  \n",
       "\n",
       "[141 rows x 56 columns]"
      ]
     },
     "execution_count": 177,
     "metadata": {},
     "output_type": "execute_result"
    }
   ],
   "source": [
    "happiness_data"
   ]
  },
  {
   "cell_type": "code",
   "execution_count": 178,
   "metadata": {},
   "outputs": [],
   "source": [
    "happiness_data_clean15 = happiness_data[happiness_data['2015 Total Natural Disaster']> 0]\n",
    "# happiness_data_clean15\n",
    "happiness_data_clean16 = happiness_data[happiness_data['2016 Total Natural Disaster']> 0]\n",
    "happiness_data_clean17 = happiness_data[happiness_data['2017 Total Natural Disaster']> 0]\n",
    "happiness_data_clean18 = happiness_data[happiness_data['2018 Total Natural Disaster']> 0]\n",
    "happiness_data_clean19 = happiness_data[happiness_data['2019 Total Natural Disaster']> 0]"
   ]
  },
  {
   "cell_type": "code",
   "execution_count": 184,
   "metadata": {
    "scrolled": false
   },
   "outputs": [
    {
     "data": {
      "image/png": "[encoded data removed]",
      "text/plain": [
       "<Figure size 432x288 with 1 Axes>"
      ]
     },
     "metadata": {
      "needs_background": "light"
     },
     "output_type": "display_data"
    }
   ],
   "source": [
    "#krf 2015 happiness score vs. disaster count\n",
    "\n",
    "plt.scatter(happiness_data_clean15['2015 Happiness Score'], happiness_data_clean15['2015 Total Natural Disaster'])\n",
    "plt.ylabel('Total Disasters')\n",
    "plt.xlabel('Happiness Score')\n",
    "plt.title('2015 Happiness Score vs. 2015 Disaster Total')\n",
    "plt.grid()\n",
    "plt.savefig('score_vs_disaster15')"
   ]
  },
  {
   "cell_type": "code",
   "execution_count": 189,
   "metadata": {},
   "outputs": [
    {
     "data": {
      "image/png": "[encoded data removed]",
      "text/plain": [
       "<Figure size 432x288 with 1 Axes>"
      ]
     },
     "metadata": {
      "needs_background": "light"
     },
     "output_type": "display_data"
    }
   ],
   "source": [
    "#krf 2015 happiness score vs. disaster count regression\n",
    "y = happiness_data_clean15['2015 Total Natural Disaster']\n",
    "x = happiness_data_clean15['2015 Happiness Score']\n",
    "\n",
    "slope, intercept, r_value, p_value, std_err = linregress(x, y)\n",
    "\n",
    "plt.plot(x, y, 'o', label='original data')\n",
    "plt.plot(x, intercept + slope*x, 'r', label='fitted line')\n",
    "plt.ylabel('Total Disasters')\n",
    "plt.xlabel('Happiness Score')\n",
    "plt.savefig(\"linear_regression15\")"
   ]
  },
  {
   "cell_type": "code",
   "execution_count": 185,
   "metadata": {},
   "outputs": [
    {
     "data": {
      "image/png": "[encoded data removed]",
      "text/plain": [
       "<Figure size 432x288 with 1 Axes>"
      ]
     },
     "metadata": {
      "needs_background": "light"
     },
     "output_type": "display_data"
    }
   ],
   "source": [
    "#krf 2016 happiness score vs. disaster count\n",
    "\n",
    "plt.scatter(happiness_data_clean15['2015 Happiness Score'], happiness_data_clean15['2015 Total Natural Disaster'])\n",
    "plt.ylabel('Total Disasters')\n",
    "plt.xlabel('Happiness Score')\n",
    "plt.title('2016 Happiness Score vs. 2016 Disaster Total')\n",
    "plt.grid()\n",
    "plt.savefig('score_vs_disaster16')"
   ]
  },
  {
   "cell_type": "code",
   "execution_count": 190,
   "metadata": {},
   "outputs": [
    {
     "data": {
      "image/png": "[encoded data removed]",
      "text/plain": [
       "<Figure size 432x288 with 1 Axes>"
      ]
     },
     "metadata": {
      "needs_background": "light"
     },
     "output_type": "display_data"
    }
   ],
   "source": [
    "#krf 2016 happiness score vs. disaster count regression\n",
    "\n",
    "y = happiness_data_clean15['2016 Total Natural Disaster']\n",
    "x = happiness_data_clean15['2016 Happiness Score']\n",
    "\n",
    "slope, intercept, r_value, p_value, std_err = linregress(x, y)\n",
    "\n",
    "plt.plot(x, y, 'o', label='original data')\n",
    "plt.plot(x, intercept + slope*x, 'r', label='fitted line')\n",
    "plt.ylabel('Total Disasters')\n",
    "plt.xlabel('Happiness Score')\n",
    "plt.savefig(\"linear_regression16\")"
   ]
  },
  {
   "cell_type": "code",
   "execution_count": 186,
   "metadata": {},
   "outputs": [
    {
     "data": {
      "image/png": "[encoded data removed]",
      "text/plain": [
       "<Figure size 432x288 with 1 Axes>"
      ]
     },
     "metadata": {
      "needs_background": "light"
     },
     "output_type": "display_data"
    }
   ],
   "source": [
    "#krf 2017 happiness score vs. disaster count\n",
    "\n",
    "plt.scatter(happiness_data_clean15['2015 Happiness Score'], happiness_data_clean15['2015 Total Natural Disaster'])\n",
    "plt.ylabel('Total Disasters')\n",
    "plt.xlabel('Happiness Score')\n",
    "plt.title('2017 Happiness Score vs. 2017 Disaster Total')\n",
    "plt.grid()\n",
    "plt.savefig('score_vs_disaster17')"
   ]
  },
  {
   "cell_type": "code",
   "execution_count": 191,
   "metadata": {},
   "outputs": [
    {
     "data": {
      "image/png": "[encoded data removed]",
      "text/plain": [
       "<Figure size 432x288 with 1 Axes>"
      ]
     },
     "metadata": {
      "needs_background": "light"
     },
     "output_type": "display_data"
    }
   ],
   "source": [
    "#krf 2017 happiness score vs. disaster count regression\n",
    "\n",
    "y = happiness_data_clean15['2017 Total Natural Disaster']\n",
    "x = happiness_data_clean15['2017 Happiness Score']\n",
    "\n",
    "slope, intercept, r_value, p_value, std_err = linregress(x, y)\n",
    "\n",
    "plt.plot(x, y, 'o', label='original data')\n",
    "plt.plot(x, intercept + slope*x, 'r', label='fitted line')\n",
    "plt.ylabel('Total Disasters')\n",
    "plt.xlabel('Happiness Score')\n",
    "plt.savefig(\"linear_regression17\")"
   ]
  },
  {
   "cell_type": "code",
   "execution_count": 187,
   "metadata": {},
   "outputs": [
    {
     "data": {
      "image/png": "[encoded data removed]",
      "text/plain": [
       "<Figure size 432x288 with 1 Axes>"
      ]
     },
     "metadata": {
      "needs_background": "light"
     },
     "output_type": "display_data"
    }
   ],
   "source": [
    "#krf 2018 happiness score vs. disaster count\n",
    "\n",
    "plt.scatter(happiness_data_clean15['2015 Happiness Score'], happiness_data_clean15['2015 Total Natural Disaster'])\n",
    "plt.ylabel('Total Disasters')\n",
    "plt.xlabel('Happiness Score')\n",
    "plt.title('2018 Happiness Score vs. 2018 Disaster Total')\n",
    "plt.grid()\n",
    "plt.savefig('score_vs_disaster18')"
   ]
  },
  {
   "cell_type": "code",
   "execution_count": 192,
   "metadata": {},
   "outputs": [
    {
     "data": {
      "image/png": "[encoded data removed]",
      "text/plain": [
       "<Figure size 432x288 with 1 Axes>"
      ]
     },
     "metadata": {
      "needs_background": "light"
     },
     "output_type": "display_data"
    }
   ],
   "source": [
    "#krf 2018 happiness score vs. disaster count regression\n",
    "\n",
    "y = happiness_data_clean15['2018 Total Natural Disaster']\n",
    "x = happiness_data_clean15['2018 Happiness Score']\n",
    "\n",
    "slope, intercept, r_value, p_value, std_err = linregress(x, y)\n",
    "\n",
    "plt.plot(x, y, 'o', label='original data')\n",
    "plt.plot(x, intercept + slope*x, 'r', label='fitted line')\n",
    "plt.ylabel('Total Disasters')\n",
    "plt.xlabel('Happiness Score')\n",
    "plt.savefig(\"linear_regression18\")"
   ]
  },
  {
   "cell_type": "code",
   "execution_count": 188,
   "metadata": {},
   "outputs": [
    {
     "data": {
      "image/png": "[encoded data removed]",
      "text/plain": [
       "<Figure size 432x288 with 1 Axes>"
      ]
     },
     "metadata": {
      "needs_background": "light"
     },
     "output_type": "display_data"
    }
   ],
   "source": [
    "#krf 2019 happiness score vs. disaster count\n",
    "\n",
    "plt.scatter(happiness_data_clean15['2015 Happiness Score'], happiness_data_clean15['2015 Total Natural Disaster'])\n",
    "plt.ylabel('Total Disasters')\n",
    "plt.xlabel('Happiness Score')\n",
    "plt.title('2019 Happiness Score vs. 2019 Disaster Total')\n",
    "plt.grid()\n",
    "plt.savefig('score_vs_disaster19')"
   ]
  },
  {
   "cell_type": "code",
   "execution_count": 193,
   "metadata": {},
   "outputs": [
    {
     "data": {
      "image/png": "[encoded data removed]",
      "text/plain": [
       "<Figure size 432x288 with 1 Axes>"
      ]
     },
     "metadata": {
      "needs_background": "light"
     },
     "output_type": "display_data"
    }
   ],
   "source": [
    "#krf 2019 happiness score vs. disaster count regression\n",
    "\n",
    "y = happiness_data_clean15['2019 Total Natural Disaster']\n",
    "x = happiness_data_clean15['2019 Happiness Score']\n",
    "\n",
    "slope, intercept, r_value, p_value, std_err = linregress(x, y)\n",
    "\n",
    "plt.plot(x, y, 'o', label='original data')\n",
    "plt.plot(x, intercept + slope*x, 'r', label='fitted line')\n",
    "plt.ylabel('Total Disasters')\n",
    "plt.xlabel('Happiness Score')\n",
    "plt.savefig(\"linear_regression19\")"
   ]
  },
  {
   "cell_type": "code",
   "execution_count": null,
   "metadata": {},
   "outputs": [],
   "source": []
  }
 ],
 "metadata": {
  "kernelspec": {
   "display_name": "Python 3",
   "language": "python",
   "name": "python3"
  },
  "language_info": {
   "codemirror_mode": {
    "name": "ipython",
    "version": 3
   },
   "file_extension": ".py",
   "mimetype": "text/x-python",
   "name": "python",
   "nbconvert_exporter": "python",
   "pygments_lexer": "ipython3",
   "version": "3.8.3"
  }
 },
 "nbformat": 4,
 "nbformat_minor": 4
}
