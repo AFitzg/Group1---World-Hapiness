{
 "cells": [
  {
   "cell_type": "code",
   "execution_count": 36,
   "metadata": {},
   "outputs": [],
   "source": [
    "import matplotlib.pyplot as plt\n",
    "import os\n",
    "import csv\n",
    "import pandas as pd\n",
    "import scipy.stats as st\n",
    "import numpy as np\n",
    "from sklearn import datasets\n",
    "\n",
    "#krf  paths to each csv file needed\n",
    "Happiness_2015 = \"Resources/Happiness_2015.csv\"\n",
    "Happiness_2016 = \"Resources/Happiness_2016.csv\"\n",
    "Happiness_2017 = \"Resources/Happiness_2017.csv\"\n",
    "Happiness_2018 = \"Resources/Happiness_2018.csv\"\n",
    "Happiness_2019 = \"Resources/Happiness_2019.csv\"\n",
    "\n"
   ]
  },
  {
   "cell_type": "code",
   "execution_count": 37,
   "metadata": {
    "scrolled": true
   },
   "outputs": [],
   "source": [
    "#krf reading in data from each csv file\n",
    "combine15 = pd.read_csv(Happiness_2015)\n",
    "combine16 = pd.read_csv(Happiness_2016)\n",
    "combine17 = pd.read_csv(Happiness_2017)\n",
    "combine18 = pd.read_csv(Happiness_2018)\n",
    "combine19 = pd.read_csv(Happiness_2019)\n",
    "\n",
    "\n",
    "#krf combine19.head()"
   ]
  },
  {
   "cell_type": "code",
   "execution_count": 38,
   "metadata": {
    "scrolled": true
   },
   "outputs": [],
   "source": [
    "#krf merge 2015 and 2016\n",
    "combined = combine15.merge(combine16, on='Country')\n",
    "\n",
    "#krf combined.head()"
   ]
  },
  {
   "cell_type": "code",
   "execution_count": 39,
   "metadata": {},
   "outputs": [],
   "source": [
    "#krf merging to add 2017\n",
    "combined2 = combined.merge(combine17, on='Country')\n",
    "\n",
    "#krf combined2.head()"
   ]
  },
  {
   "cell_type": "code",
   "execution_count": 40,
   "metadata": {
    "scrolled": true
   },
   "outputs": [],
   "source": [
    "#krf merging to add 2018\n",
    "combined3 = combined2.merge(combine18, on='Country')\n",
    "\n",
    "#krf combined3.head()"
   ]
  },
  {
   "cell_type": "code",
   "execution_count": 41,
   "metadata": {
    "scrolled": true
   },
   "outputs": [],
   "source": [
    "#krf merging to add 2019\n",
    "combined4 = combined3.merge(combine19, on='Country')\n",
    "\n",
    "#krf combined4\n",
    "\n",
    "#krf renaming dataframe\n",
    "happiness_data = combined4"
   ]
  },
  {
   "cell_type": "code",
   "execution_count": 42,
   "metadata": {},
   "outputs": [
    {
     "data": {
      "text/plain": [
       "141"
      ]
     },
     "execution_count": 42,
     "metadata": {},
     "output_type": "execute_result"
    }
   ],
   "source": [
    "# total number of countries\n",
    "country_total = len(happiness_data[\"Country\"].unique())\n",
    "country_total"
   ]
  },
  {
   "cell_type": "code",
   "execution_count": 66,
   "metadata": {
    "scrolled": true
   },
   "outputs": [
    {
     "data": {
      "text/html": [
       "<div>\n",
       "<style scoped>\n",
       "    .dataframe tbody tr th:only-of-type {\n",
       "        vertical-align: middle;\n",
       "    }\n",
       "\n",
       "    .dataframe tbody tr th {\n",
       "        vertical-align: top;\n",
       "    }\n",
       "\n",
       "    .dataframe thead th {\n",
       "        text-align: right;\n",
       "    }\n",
       "</style>\n",
       "<table border=\"1\" class=\"dataframe\">\n",
       "  <thead>\n",
       "    <tr style=\"text-align: right;\">\n",
       "      <th></th>\n",
       "      <th>2015 Happiness Average</th>\n",
       "      <th>2016 Happiness Average</th>\n",
       "      <th>2017 Happiness Average</th>\n",
       "      <th>2018 Happiness Average</th>\n",
       "      <th>2019 Happiness Average</th>\n",
       "    </tr>\n",
       "  </thead>\n",
       "  <tbody>\n",
       "    <tr>\n",
       "      <th>0</th>\n",
       "      <td>5.406716</td>\n",
       "      <td>5.397887</td>\n",
       "      <td>5.408291</td>\n",
       "      <td>5.440156</td>\n",
       "      <td>5.485383</td>\n",
       "    </tr>\n",
       "  </tbody>\n",
       "</table>\n",
       "</div>"
      ],
      "text/plain": [
       "   2015 Happiness Average  2016 Happiness Average  2017 Happiness Average  \\\n",
       "0                5.406716                5.397887                5.408291   \n",
       "\n",
       "   2018 Happiness Average  2019 Happiness Average  \n",
       "0                5.440156                5.485383  "
      ]
     },
     "execution_count": 66,
     "metadata": {},
     "output_type": "execute_result"
    }
   ],
   "source": [
    "#krf averages of happiness by year\n",
    "#krf 2015\n",
    "average_happiness15 = happiness_data[\"2015 Happiness Score\"].mean()\n",
    "#krf average_happiness15\n",
    "\n",
    "#krf 2016\n",
    "average_happiness16 = happiness_data[\"2016 Happiness Score\"].mean()\n",
    "#krf average_happiness16\n",
    "\n",
    "#krf 2017\n",
    "average_happiness17 = happiness_data[\"2017 Happiness Score\"].mean()\n",
    "#krf average_happiness17\n",
    "\n",
    "#krf 2018\n",
    "average_happiness18 = happiness_data[\"2018 Happiness Score\"].mean()\n",
    "#krf average_happiness18\n",
    "\n",
    "#krf 2019\n",
    "average_happiness19 = happiness_data[\"2019 Happiness Score\"].mean()\n",
    "#krf average_happiness19\n",
    "\n",
    "#krf Happiness Average Summary\n",
    "\n",
    "happiness_summary = pd.DataFrame({\n",
    "    \"2015 Happiness Average\": [average_happiness15],\n",
    "    \"2016 Happiness Average\": [average_happiness16],\n",
    "    \"2017 Happiness Average\": [average_happiness17],\n",
    "    \"2018 Happiness Average\": [average_happiness18],\n",
    "    \"2019 Happiness Average\": [average_happiness19]\n",
    "})\n",
    "happiness_summary"
   ]
  },
  {
   "cell_type": "code",
   "execution_count": 71,
   "metadata": {
    "scrolled": false
   },
   "outputs": [
    {
     "data": {
      "image/png": "[encoded data removed]",
      "text/plain": [
       "<Figure size 432x288 with 1 Axes>"
      ]
     },
     "metadata": {
      "needs_background": "light"
     },
     "output_type": "display_data"
    }
   ],
   "source": [
    "#krf yearly happiness chart\n",
    "\n",
    "happiness_summary.plot(kind=\"bar\", rot=0)\n",
    "plt.xlabel(\"Year\")\n",
    "plt.ylabel(\"Average Happiness\")\n",
    "plt.show()"
   ]
  },
  {
   "cell_type": "code",
   "execution_count": 49,
   "metadata": {},
   "outputs": [
    {
     "data": {
      "text/html": [
       "<div>\n",
       "<style scoped>\n",
       "    .dataframe tbody tr th:only-of-type {\n",
       "        vertical-align: middle;\n",
       "    }\n",
       "\n",
       "    .dataframe tbody tr th {\n",
       "        vertical-align: top;\n",
       "    }\n",
       "\n",
       "    .dataframe thead th {\n",
       "        text-align: right;\n",
       "    }\n",
       "</style>\n",
       "<table border=\"1\" class=\"dataframe\">\n",
       "  <thead>\n",
       "    <tr style=\"text-align: right;\">\n",
       "      <th></th>\n",
       "      <th>2015 Disaster Average</th>\n",
       "      <th>2016 Disaster Average</th>\n",
       "      <th>2017 Disaster Average</th>\n",
       "      <th>2018 Disaster Average</th>\n",
       "      <th>2019 Disaster Average</th>\n",
       "    </tr>\n",
       "  </thead>\n",
       "  <tbody>\n",
       "    <tr>\n",
       "      <th>0</th>\n",
       "      <td>1.87234</td>\n",
       "      <td>1.617021</td>\n",
       "      <td>1.780142</td>\n",
       "      <td>1.631206</td>\n",
       "      <td>2.113475</td>\n",
       "    </tr>\n",
       "  </tbody>\n",
       "</table>\n",
       "</div>"
      ],
      "text/plain": [
       "   2015 Disaster Average  2016 Disaster Average  2017 Disaster Average  \\\n",
       "0                1.87234               1.617021               1.780142   \n",
       "\n",
       "   2018 Disaster Average  2019 Disaster Average  \n",
       "0               1.631206               2.113475  "
      ]
     },
     "execution_count": 49,
     "metadata": {},
     "output_type": "execute_result"
    }
   ],
   "source": [
    "#krf averages of natural disasters per year\n",
    "#krf 2015\n",
    "average_disasters15 = happiness_data[\"2015 Total Natural Disaster\"].mean()\n",
    "#krf average_disasters15\n",
    "\n",
    "#krf 2016\n",
    "average_disasters16 = happiness_data[\"2016 Total Natural Disaster\"].mean()\n",
    "#krf average_disasters16\n",
    "\n",
    "#krf 2017\n",
    "average_disasters17 = happiness_data[\"2017 Total Natural Disaster\"].mean()\n",
    "#krf average_disasters17\n",
    "\n",
    "#krf 2018\n",
    "average_disasters18 = happiness_data[\"2018 Total Natural Disaster\"].mean()\n",
    "#krf average_disasters18\n",
    "\n",
    "#krf 2019\n",
    "average_disasters19 = happiness_data[\"2019 Total Natural Disaster\"].mean()\n",
    "#krf average_disasters19\n",
    "\n",
    "#krf disasters Average Summary\n",
    "\n",
    "disasters_summary = pd.DataFrame({\n",
    "    \"2015 Disaster Average\": [average_disasters15],\n",
    "    \"2016 Disaster Average\": [average_disasters16],\n",
    "    \"2017 Disaster Average\": [average_disasters17],\n",
    "    \"2018 Disaster Average\": [average_disasters18],\n",
    "    \"2019 Disaster Average\": [average_disasters19]\n",
    "})\n",
    "disasters_summary"
   ]
  },
  {
   "cell_type": "code",
   "execution_count": 72,
   "metadata": {},
   "outputs": [
    {
     "data": {
      "image/png": "[encoded data removed]",
      "text/plain": [
       "<Figure size 432x288 with 1 Axes>"
      ]
     },
     "metadata": {
      "needs_background": "light"
     },
     "output_type": "display_data"
    }
   ],
   "source": [
    "#krf disaster chart\n",
    "\n",
    "disasters_summary.plot(kind=\"bar\", rot=0)\n",
    "plt.xlabel(\"Year\")\n",
    "plt.ylabel(\"Average Happiness\")\n",
    "plt.show()"
   ]
  },
  {
   "cell_type": "code",
   "execution_count": 50,
   "metadata": {},
   "outputs": [
    {
     "data": {
      "text/html": [
       "<div>\n",
       "<style scoped>\n",
       "    .dataframe tbody tr th:only-of-type {\n",
       "        vertical-align: middle;\n",
       "    }\n",
       "\n",
       "    .dataframe tbody tr th {\n",
       "        vertical-align: top;\n",
       "    }\n",
       "\n",
       "    .dataframe thead th {\n",
       "        text-align: right;\n",
       "    }\n",
       "</style>\n",
       "<table border=\"1\" class=\"dataframe\">\n",
       "  <thead>\n",
       "    <tr style=\"text-align: right;\">\n",
       "      <th></th>\n",
       "      <th>2015 Total Affected</th>\n",
       "      <th>2016 Total Affected</th>\n",
       "      <th>2017 Total Affected</th>\n",
       "      <th>2018 Total Affected</th>\n",
       "      <th>2019 Total Affected</th>\n",
       "    </tr>\n",
       "  </thead>\n",
       "  <tbody>\n",
       "    <tr>\n",
       "      <th>0</th>\n",
       "      <td>2.774514e+06</td>\n",
       "      <td>699607.269504</td>\n",
       "      <td>497056.191489</td>\n",
       "      <td>475174.269504</td>\n",
       "      <td>431905.950355</td>\n",
       "    </tr>\n",
       "  </tbody>\n",
       "</table>\n",
       "</div>"
      ],
      "text/plain": [
       "   2015 Total Affected  2016 Total Affected  2017 Total Affected  \\\n",
       "0         2.774514e+06        699607.269504        497056.191489   \n",
       "\n",
       "   2018 Total Affected  2019 Total Affected  \n",
       "0        475174.269504        431905.950355  "
      ]
     },
     "execution_count": 50,
     "metadata": {},
     "output_type": "execute_result"
    }
   ],
   "source": [
    "#krf averages of people affected by natural disasters per year\n",
    "#krf 2015\n",
    "average_affected15 = happiness_data[\"2015 Natural Disaster Total Affected\"].mean()\n",
    "#krf average_affected15\n",
    "\n",
    "#krf 2016\n",
    "average_affected16 = happiness_data[\"2016 Natural Disaster Total Affected\"].mean()\n",
    "#krf average_affected16\n",
    "\n",
    "#krf 2017\n",
    "average_affected17 = happiness_data[\"2017 Natural Disaster Total Affected\"].mean()\n",
    "#krf average_affected17\n",
    "\n",
    "#krf 2018\n",
    "average_affected18 = happiness_data[\"2018 Natural Disaster Total Affected\"].mean()\n",
    "#krf average_affected18\n",
    "\n",
    "#krf 2019\n",
    "average_affected19 = happiness_data[\"2019 Natural Disaster Total Affected\"].mean()\n",
    "#krf average_affected19\n",
    "\n",
    "#krf Total Affected Average Summary\n",
    "\n",
    "affected_summary = pd.DataFrame({\n",
    "    \"2015 Total Affected\": [average_affected15],\n",
    "    \"2016 Total Affected\": [average_affected16],\n",
    "    \"2017 Total Affected\": [average_affected17],\n",
    "    \"2018 Total Affected\": [average_affected18],\n",
    "    \"2019 Total Affected\": [average_affected19]\n",
    "})\n",
    "affected_summary"
   ]
  },
  {
   "cell_type": "code",
   "execution_count": 73,
   "metadata": {},
   "outputs": [
    {
     "data": {
      "image/png": "[encoded data removed]",
      "text/plain": [
       "<Figure size 432x288 with 1 Axes>"
      ]
     },
     "metadata": {
      "needs_background": "light"
     },
     "output_type": "display_data"
    }
   ],
   "source": [
    "#krf affected chart\n",
    "\n",
    "disasters_summary.plot(kind=\"bar\", rot=0)\n",
    "plt.xlabel(\"Year\")\n",
    "plt.ylabel(\"Average Happiness\")\n",
    "plt.show()"
   ]
  },
  {
   "cell_type": "code",
   "execution_count": 51,
   "metadata": {},
   "outputs": [
    {
     "data": {
      "text/html": [
       "<div>\n",
       "<style scoped>\n",
       "    .dataframe tbody tr th:only-of-type {\n",
       "        vertical-align: middle;\n",
       "    }\n",
       "\n",
       "    .dataframe tbody tr th {\n",
       "        vertical-align: top;\n",
       "    }\n",
       "\n",
       "    .dataframe thead th {\n",
       "        text-align: right;\n",
       "    }\n",
       "</style>\n",
       "<table border=\"1\" class=\"dataframe\">\n",
       "  <thead>\n",
       "    <tr style=\"text-align: right;\">\n",
       "      <th></th>\n",
       "      <th>2015 Total Deaths</th>\n",
       "      <th>2016 Total Deaths</th>\n",
       "      <th>2017 Total Deaths</th>\n",
       "      <th>2018 Total Deaths</th>\n",
       "      <th>2019 Total Deaths</th>\n",
       "    </tr>\n",
       "  </thead>\n",
       "  <tbody>\n",
       "    <tr>\n",
       "      <th>0</th>\n",
       "      <td>155.659574</td>\n",
       "      <td>57.141844</td>\n",
       "      <td>62.198582</td>\n",
       "      <td>74.957447</td>\n",
       "      <td>77.382979</td>\n",
       "    </tr>\n",
       "  </tbody>\n",
       "</table>\n",
       "</div>"
      ],
      "text/plain": [
       "   2015 Total Deaths  2016 Total Deaths  2017 Total Deaths  2018 Total Deaths  \\\n",
       "0         155.659574          57.141844          62.198582          74.957447   \n",
       "\n",
       "   2019 Total Deaths  \n",
       "0          77.382979  "
      ]
     },
     "execution_count": 51,
     "metadata": {},
     "output_type": "execute_result"
    }
   ],
   "source": [
    "#krf averages of death by natural disasters per year\n",
    "#krf 2015\n",
    "average_death15 = happiness_data[\"2015 Natural Disaster Total Deaths\"].mean()\n",
    "#krf average_death15\n",
    "\n",
    "#krf 2016\n",
    "average_death16 = happiness_data[\"2016 Natural Disaster Total Deaths\"].mean()\n",
    "#krf average_death16\n",
    "\n",
    "#krf 2017\n",
    "average_death17 = happiness_data[\"2017 Natural Disaster Total Deaths\"].mean()\n",
    "#krf average_death17\n",
    "\n",
    "#krf 2018\n",
    "average_death18 = happiness_data[\"2018 Natural Disaster Total Deaths\"].mean()\n",
    "#krf average_death18\n",
    "\n",
    "#krf 2019\n",
    "average_death19 = happiness_data[\"2019 Natural Disaster Total Deaths\"].mean()\n",
    "#krf average_death19\n",
    "\n",
    "#krf Death Average Summary\n",
    "\n",
    "death_summary = pd.DataFrame({\n",
    "    \"2015 Total Deaths\": [average_death15],\n",
    "    \"2016 Total Deaths\": [average_death16],\n",
    "    \"2017 Total Deaths\": [average_death17],\n",
    "    \"2018 Total Deaths\": [average_death18],\n",
    "    \"2019 Total Deaths\": [average_death19]\n",
    "})\n",
    "death_summary"
   ]
  },
  {
   "cell_type": "code",
   "execution_count": 74,
   "metadata": {},
   "outputs": [
    {
     "data": {
      "image/png": "[encoded data removed]",
      "text/plain": [
       "<Figure size 432x288 with 1 Axes>"
      ]
     },
     "metadata": {
      "needs_background": "light"
     },
     "output_type": "display_data"
    }
   ],
   "source": [
    "#krf death chart\n",
    "\n",
    "death_summary.plot(kind=\"bar\", rot=0)\n",
    "plt.xlabel(\"Year\")\n",
    "plt.ylabel(\"Average Happiness\")\n",
    "plt.show()"
   ]
  },
  {
   "cell_type": "code",
   "execution_count": 53,
   "metadata": {
    "scrolled": true
   },
   "outputs": [
    {
     "data": {
      "text/html": [
       "<div>\n",
       "<style scoped>\n",
       "    .dataframe tbody tr th:only-of-type {\n",
       "        vertical-align: middle;\n",
       "    }\n",
       "\n",
       "    .dataframe tbody tr th {\n",
       "        vertical-align: top;\n",
       "    }\n",
       "\n",
       "    .dataframe thead th {\n",
       "        text-align: right;\n",
       "    }\n",
       "</style>\n",
       "<table border=\"1\" class=\"dataframe\">\n",
       "  <thead>\n",
       "    <tr style=\"text-align: right;\">\n",
       "      <th></th>\n",
       "      <th>Country</th>\n",
       "      <th>2015 Happiness Rank</th>\n",
       "      <th>2015 Happiness Score</th>\n",
       "      <th>2015 Economy (GDP per Capita)</th>\n",
       "      <th>2015 Family</th>\n",
       "      <th>2015 Health (Life Expectancy)</th>\n",
       "      <th>2015 Freedom</th>\n",
       "      <th>2015 Trust (Government Corruption)</th>\n",
       "      <th>2015 Generosity</th>\n",
       "      <th>2015 Total Natural Disaster</th>\n",
       "      <th>2015 Natural Disaster Total Affected</th>\n",
       "      <th>2015 Natural Disaster Total Deaths</th>\n",
       "    </tr>\n",
       "  </thead>\n",
       "  <tbody>\n",
       "    <tr>\n",
       "      <th>0</th>\n",
       "      <td>Switzerland</td>\n",
       "      <td>1</td>\n",
       "      <td>7.587</td>\n",
       "      <td>1.39651</td>\n",
       "      <td>1.34951</td>\n",
       "      <td>0.94143</td>\n",
       "      <td>0.66557</td>\n",
       "      <td>0.41978</td>\n",
       "      <td>0.29678</td>\n",
       "      <td>0</td>\n",
       "      <td>0</td>\n",
       "      <td>0</td>\n",
       "    </tr>\n",
       "    <tr>\n",
       "      <th>1</th>\n",
       "      <td>Iceland</td>\n",
       "      <td>2</td>\n",
       "      <td>7.561</td>\n",
       "      <td>1.30232</td>\n",
       "      <td>1.40223</td>\n",
       "      <td>0.94784</td>\n",
       "      <td>0.62877</td>\n",
       "      <td>0.14145</td>\n",
       "      <td>0.43630</td>\n",
       "      <td>0</td>\n",
       "      <td>0</td>\n",
       "      <td>0</td>\n",
       "    </tr>\n",
       "    <tr>\n",
       "      <th>2</th>\n",
       "      <td>Denmark</td>\n",
       "      <td>3</td>\n",
       "      <td>7.527</td>\n",
       "      <td>1.32548</td>\n",
       "      <td>1.36058</td>\n",
       "      <td>0.87464</td>\n",
       "      <td>0.64938</td>\n",
       "      <td>0.48357</td>\n",
       "      <td>0.34139</td>\n",
       "      <td>0</td>\n",
       "      <td>0</td>\n",
       "      <td>0</td>\n",
       "    </tr>\n",
       "    <tr>\n",
       "      <th>3</th>\n",
       "      <td>Norway</td>\n",
       "      <td>4</td>\n",
       "      <td>7.522</td>\n",
       "      <td>1.45900</td>\n",
       "      <td>1.33095</td>\n",
       "      <td>0.88521</td>\n",
       "      <td>0.66973</td>\n",
       "      <td>0.36503</td>\n",
       "      <td>0.34699</td>\n",
       "      <td>0</td>\n",
       "      <td>0</td>\n",
       "      <td>0</td>\n",
       "    </tr>\n",
       "    <tr>\n",
       "      <th>4</th>\n",
       "      <td>Canada</td>\n",
       "      <td>5</td>\n",
       "      <td>7.427</td>\n",
       "      <td>1.32629</td>\n",
       "      <td>1.32261</td>\n",
       "      <td>0.90563</td>\n",
       "      <td>0.63297</td>\n",
       "      <td>0.32957</td>\n",
       "      <td>0.45811</td>\n",
       "      <td>1</td>\n",
       "      <td>13036</td>\n",
       "      <td>0</td>\n",
       "    </tr>\n",
       "    <tr>\n",
       "      <th>...</th>\n",
       "      <td>...</td>\n",
       "      <td>...</td>\n",
       "      <td>...</td>\n",
       "      <td>...</td>\n",
       "      <td>...</td>\n",
       "      <td>...</td>\n",
       "      <td>...</td>\n",
       "      <td>...</td>\n",
       "      <td>...</td>\n",
       "      <td>...</td>\n",
       "      <td>...</td>\n",
       "      <td>...</td>\n",
       "    </tr>\n",
       "    <tr>\n",
       "      <th>153</th>\n",
       "      <td>Rwanda</td>\n",
       "      <td>154</td>\n",
       "      <td>3.465</td>\n",
       "      <td>0.22208</td>\n",
       "      <td>0.77370</td>\n",
       "      <td>0.42864</td>\n",
       "      <td>0.59201</td>\n",
       "      <td>0.55191</td>\n",
       "      <td>0.22628</td>\n",
       "      <td>1</td>\n",
       "      <td>3431</td>\n",
       "      <td>2</td>\n",
       "    </tr>\n",
       "    <tr>\n",
       "      <th>154</th>\n",
       "      <td>Benin</td>\n",
       "      <td>155</td>\n",
       "      <td>3.340</td>\n",
       "      <td>0.28665</td>\n",
       "      <td>0.35386</td>\n",
       "      <td>0.31910</td>\n",
       "      <td>0.48450</td>\n",
       "      <td>0.08010</td>\n",
       "      <td>0.18260</td>\n",
       "      <td>0</td>\n",
       "      <td>0</td>\n",
       "      <td>0</td>\n",
       "    </tr>\n",
       "    <tr>\n",
       "      <th>155</th>\n",
       "      <td>Syria</td>\n",
       "      <td>156</td>\n",
       "      <td>3.006</td>\n",
       "      <td>0.66320</td>\n",
       "      <td>0.47489</td>\n",
       "      <td>0.72193</td>\n",
       "      <td>0.15684</td>\n",
       "      <td>0.18906</td>\n",
       "      <td>0.47179</td>\n",
       "      <td>0</td>\n",
       "      <td>0</td>\n",
       "      <td>0</td>\n",
       "    </tr>\n",
       "    <tr>\n",
       "      <th>156</th>\n",
       "      <td>Burundi</td>\n",
       "      <td>157</td>\n",
       "      <td>2.905</td>\n",
       "      <td>0.01530</td>\n",
       "      <td>0.41587</td>\n",
       "      <td>0.22396</td>\n",
       "      <td>0.11850</td>\n",
       "      <td>0.10062</td>\n",
       "      <td>0.19727</td>\n",
       "      <td>2</td>\n",
       "      <td>7049</td>\n",
       "      <td>63</td>\n",
       "    </tr>\n",
       "    <tr>\n",
       "      <th>157</th>\n",
       "      <td>Togo</td>\n",
       "      <td>158</td>\n",
       "      <td>2.839</td>\n",
       "      <td>0.20868</td>\n",
       "      <td>0.13995</td>\n",
       "      <td>0.28443</td>\n",
       "      <td>0.36453</td>\n",
       "      <td>0.10731</td>\n",
       "      <td>0.16681</td>\n",
       "      <td>1</td>\n",
       "      <td>324</td>\n",
       "      <td>24</td>\n",
       "    </tr>\n",
       "  </tbody>\n",
       "</table>\n",
       "<p>158 rows × 12 columns</p>\n",
       "</div>"
      ],
      "text/plain": [
       "         Country  2015 Happiness Rank  2015 Happiness Score  \\\n",
       "0    Switzerland                    1                 7.587   \n",
       "1        Iceland                    2                 7.561   \n",
       "2        Denmark                    3                 7.527   \n",
       "3         Norway                    4                 7.522   \n",
       "4         Canada                    5                 7.427   \n",
       "..           ...                  ...                   ...   \n",
       "153       Rwanda                  154                 3.465   \n",
       "154        Benin                  155                 3.340   \n",
       "155        Syria                  156                 3.006   \n",
       "156      Burundi                  157                 2.905   \n",
       "157         Togo                  158                 2.839   \n",
       "\n",
       "     2015 Economy (GDP per Capita)  2015 Family  \\\n",
       "0                          1.39651      1.34951   \n",
       "1                          1.30232      1.40223   \n",
       "2                          1.32548      1.36058   \n",
       "3                          1.45900      1.33095   \n",
       "4                          1.32629      1.32261   \n",
       "..                             ...          ...   \n",
       "153                        0.22208      0.77370   \n",
       "154                        0.28665      0.35386   \n",
       "155                        0.66320      0.47489   \n",
       "156                        0.01530      0.41587   \n",
       "157                        0.20868      0.13995   \n",
       "\n",
       "     2015 Health (Life Expectancy)  2015 Freedom  \\\n",
       "0                          0.94143       0.66557   \n",
       "1                          0.94784       0.62877   \n",
       "2                          0.87464       0.64938   \n",
       "3                          0.88521       0.66973   \n",
       "4                          0.90563       0.63297   \n",
       "..                             ...           ...   \n",
       "153                        0.42864       0.59201   \n",
       "154                        0.31910       0.48450   \n",
       "155                        0.72193       0.15684   \n",
       "156                        0.22396       0.11850   \n",
       "157                        0.28443       0.36453   \n",
       "\n",
       "     2015 Trust (Government Corruption)  2015 Generosity  \\\n",
       "0                               0.41978          0.29678   \n",
       "1                               0.14145          0.43630   \n",
       "2                               0.48357          0.34139   \n",
       "3                               0.36503          0.34699   \n",
       "4                               0.32957          0.45811   \n",
       "..                                  ...              ...   \n",
       "153                             0.55191          0.22628   \n",
       "154                             0.08010          0.18260   \n",
       "155                             0.18906          0.47179   \n",
       "156                             0.10062          0.19727   \n",
       "157                             0.10731          0.16681   \n",
       "\n",
       "     2015 Total Natural Disaster  2015 Natural Disaster Total Affected  \\\n",
       "0                              0                                     0   \n",
       "1                              0                                     0   \n",
       "2                              0                                     0   \n",
       "3                              0                                     0   \n",
       "4                              1                                 13036   \n",
       "..                           ...                                   ...   \n",
       "153                            1                                  3431   \n",
       "154                            0                                     0   \n",
       "155                            0                                     0   \n",
       "156                            2                                  7049   \n",
       "157                            1                                   324   \n",
       "\n",
       "     2015 Natural Disaster Total Deaths  \n",
       "0                                     0  \n",
       "1                                     0  \n",
       "2                                     0  \n",
       "3                                     0  \n",
       "4                                     0  \n",
       "..                                  ...  \n",
       "153                                   2  \n",
       "154                                   0  \n",
       "155                                   0  \n",
       "156                                  63  \n",
       "157                                  24  \n",
       "\n",
       "[158 rows x 12 columns]"
      ]
     },
     "execution_count": 53,
     "metadata": {},
     "output_type": "execute_result"
    }
   ],
   "source": [
    "#krf Top 5 and Bottom 5 happiness Rank 2015\n"
   ]
  },
  {
   "cell_type": "code",
   "execution_count": null,
   "metadata": {},
   "outputs": [],
   "source": []
  },
  {
   "cell_type": "code",
   "execution_count": null,
   "metadata": {},
   "outputs": [],
   "source": [
    "overall_summary = happiness_data[\"Country\",\"2015 Happiness Rank\", \"\"]"
   ]
  },
  {
   "cell_type": "code",
   "execution_count": 61,
   "metadata": {
    "scrolled": true
   },
   "outputs": [
    {
     "data": {
      "text/plain": [
       "Country      2015 Total Natural Disaster\n",
       "Afghanistan  7                              1\n",
       "Albania      3                              1\n",
       "Algeria      2                              1\n",
       "Argentina    5                              1\n",
       "Armenia      0                              1\n",
       "                                           ..\n",
       "Venezuela    0                              1\n",
       "Vietnam      0                              1\n",
       "Yemen        3                              1\n",
       "Zambia       0                              1\n",
       "Zimbabwe     1                              1\n",
       "Name: 2015 Total Natural Disaster, Length: 141, dtype: int64"
      ]
     },
     "execution_count": 61,
     "metadata": {},
     "output_type": "execute_result"
    }
   ],
   "source": [
    "#krf disaster count by year\n",
    "\n",
    "disaster_count = happiness_data.groupby(\"Country\")['2015 Total Natural Disaster'].value_counts()\n",
    "disaster_count"
   ]
  },
  {
   "cell_type": "code",
   "execution_count": null,
   "metadata": {},
   "outputs": [],
   "source": []
  },
  {
   "cell_type": "code",
   "execution_count": 63,
   "metadata": {
    "scrolled": true
   },
   "outputs": [
    {
     "data": {
      "image/png": "[encoded data removed]",
      "text/plain": [
       "<Figure size 432x288 with 1 Axes>"
      ]
     },
     "metadata": {
      "needs_background": "light"
     },
     "output_type": "display_data"
    }
   ],
   "source": [
    "disaster_count.plot(kind=\"bar\")\n",
    "plt.xlabel('Country')\n",
    "plt.ylabel('# of Natural Disasters 2015')\n",
    "plt.show()"
   ]
  },
  {
   "cell_type": "code",
   "execution_count": null,
   "metadata": {},
   "outputs": [],
   "source": []
  }
 ],
 "metadata": {
  "kernelspec": {
   "display_name": "Python 3",
   "language": "python",
   "name": "python3"
  },
  "language_info": {
   "codemirror_mode": {
    "name": "ipython",
    "version": 3
   },
   "file_extension": ".py",
   "mimetype": "text/x-python",
   "name": "python",
   "nbconvert_exporter": "python",
   "pygments_lexer": "ipython3",
   "version": "3.8.3"
  }
 },
 "nbformat": 4,
 "nbformat_minor": 4
}
