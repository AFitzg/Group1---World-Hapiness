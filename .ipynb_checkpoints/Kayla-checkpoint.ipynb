{
 "cells": [
  {
   "cell_type": "code",
   "execution_count": 4,
   "metadata": {},
   "outputs": [],
   "source": [
    "import matplotlib.pyplot as plt\n",
    "import os\n",
    "import csv\n",
    "import pandas as pd\n",
    "import scipy.stats as st\n",
    "import numpy as np\n",
    "\n",
    "Happiness_2015 = \"../Resources/Happiness_2015.csv\"\n",
    "Happiness_2016 = \"../Resources/Happiness_2016.csv\"\n",
    "Happiness_2017 = \"../Resources/Happiness_2017.csv\"\n",
    "Happiness_2018 = \"../Resources/Happiness_2018.csv\"\n",
    "Happiness_2019 = \"../Resources/Happiness_2019.csv\"\n",
    "natural_2015_2019 = \"../Resources/natural_2015_2019.csv\"\n",
    "\n",
    "\n",
    "\n",
    "# Data_2015 = pd.read_csv(Data_2015_path)\n",
    "\n",
    "# Data_2016 = pd.read_csv(Data_2016_path)\n",
    "# Data_2017 = pd.read_csv(Data_2017_path)\n",
    "# Data_2018 = pd.read_csv(Data_2018_path)\n",
    "# Data_2019 = pd.read_csv(Data_2019_path)\n",
    "# Urban_Total = pd.read_csv(Urban_Total_path,encoding = \"utf8\")\n",
    "\n",
    "# filepath = os.path.dirname(os.path.abspath(__file__))\n",
    "# my_file = os.path.join(THIS_FOLDER, 'API_SP.URB.TOTL_DS2_en_excel_v2_1496604.csv)\n",
    "\n",
    "# combinedDF = pd.merge(Data_2015,Data_2016, how=\"left\",on=\"Country\")\n",
    "# combinedDF"
   ]
  },
  {
   "cell_type": "code",
   "execution_count": null,
   "metadata": {},
   "outputs": [],
   "source": [
    "# combine all years to create one dataset\n",
    "combine15 = pd.read_csv('Happiness_2015)\n",
    "combine16 = pd.read_csv('Happiness_2016)\n",
    "combine17 = pd.read_csv('Happiness_2017)\n",
    "combine18 = pd.read_csv('Happiness_2018)\n",
    "combine19 = pd.read_csv('Happiness_2019)"
   ]
  },
  {
   "cell_type": "code",
   "execution_count": null,
   "metadata": {},
   "outputs": [],
   "source": []
  }
 ],
 "metadata": {
  "kernelspec": {
   "display_name": "Python 3",
   "language": "python",
   "name": "python3"
  },
  "language_info": {
   "codemirror_mode": {
    "name": "ipython",
    "version": 3
   },
   "file_extension": ".py",
   "mimetype": "text/x-python",
   "name": "python",
   "nbconvert_exporter": "python",
   "pygments_lexer": "ipython3",
   "version": "3.8.3"
  }
 },
 "nbformat": 4,
 "nbformat_minor": 4
}
